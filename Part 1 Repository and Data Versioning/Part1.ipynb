{
 "cells": [
  {
   "cell_type": "code",
   "execution_count": 1,
   "id": "f679ea14",
   "metadata": {},
   "outputs": [
    {
     "name": "stdout",
     "output_type": "stream",
     "text": [
      "Defaulting to user installation because normal site-packages is not writeableNote: you may need to restart the kernel to use updated packages.\n",
      "\n",
      "Requirement already satisfied: dvc in c:\\users\\arun\\appdata\\roaming\\python\\python312\\site-packages (3.61.0)\n",
      "Requirement already satisfied: attrs>=22.2.0 in c:\\anaconda3\\lib\\site-packages (from dvc) (23.1.0)\n",
      "Requirement already satisfied: celery in c:\\users\\arun\\appdata\\roaming\\python\\python312\\site-packages (from dvc) (5.5.3)\n",
      "Requirement already satisfied: colorama>=0.3.9 in c:\\anaconda3\\lib\\site-packages (from dvc) (0.4.6)\n",
      "Requirement already satisfied: configobj>=5.0.9 in c:\\users\\arun\\appdata\\roaming\\python\\python312\\site-packages (from dvc) (5.0.9)\n",
      "Requirement already satisfied: distro>=1.3 in c:\\anaconda3\\lib\\site-packages (from dvc) (1.9.0)\n",
      "Requirement already satisfied: dpath<3,>=2.1.0 in c:\\users\\arun\\appdata\\roaming\\python\\python312\\site-packages (from dvc) (2.2.0)\n",
      "Requirement already satisfied: dulwich in c:\\users\\arun\\appdata\\roaming\\python\\python312\\site-packages (from dvc) (0.24.1)\n",
      "Requirement already satisfied: dvc-data<3.17,>=3.16.2 in c:\\users\\arun\\appdata\\roaming\\python\\python312\\site-packages (from dvc) (3.16.11)\n",
      "Requirement already satisfied: dvc-http>=2.29.0 in c:\\users\\arun\\appdata\\roaming\\python\\python312\\site-packages (from dvc) (2.32.0)\n",
      "Requirement already satisfied: dvc-objects in c:\\users\\arun\\appdata\\roaming\\python\\python312\\site-packages (from dvc) (5.1.1)\n",
      "Requirement already satisfied: dvc-render<2,>=1.0.1 in c:\\users\\arun\\appdata\\roaming\\python\\python312\\site-packages (from dvc) (1.0.2)\n",
      "Requirement already satisfied: dvc-studio-client<1,>=0.21 in c:\\users\\arun\\appdata\\roaming\\python\\python312\\site-packages (from dvc) (0.22.0)\n",
      "Requirement already satisfied: dvc-task<1,>=0.3.0 in c:\\users\\arun\\appdata\\roaming\\python\\python312\\site-packages (from dvc) (0.40.2)\n",
      "Requirement already satisfied: flatten_dict<1,>=0.4.1 in c:\\users\\arun\\appdata\\roaming\\python\\python312\\site-packages (from dvc) (0.4.2)\n",
      "Requirement already satisfied: flufl.lock<9,>=8.1.0 in c:\\users\\arun\\appdata\\roaming\\python\\python312\\site-packages (from dvc) (8.2.0)\n",
      "Requirement already satisfied: fsspec>=2024.2.0 in c:\\anaconda3\\lib\\site-packages (from dvc) (2024.6.1)\n",
      "Requirement already satisfied: funcy>=1.14 in c:\\users\\arun\\appdata\\roaming\\python\\python312\\site-packages (from dvc) (2.0)\n",
      "Requirement already satisfied: grandalf<1,>=0.7 in c:\\users\\arun\\appdata\\roaming\\python\\python312\\site-packages (from dvc) (0.8)\n",
      "Requirement already satisfied: gto<2,>=1.6.0 in c:\\users\\arun\\appdata\\roaming\\python\\python312\\site-packages (from dvc) (1.7.2)\n",
      "Requirement already satisfied: hydra-core>=1.1 in c:\\users\\arun\\appdata\\roaming\\python\\python312\\site-packages (from dvc) (1.3.2)\n",
      "Requirement already satisfied: iterative-telemetry>=0.0.7 in c:\\users\\arun\\appdata\\roaming\\python\\python312\\site-packages (from dvc) (0.0.10)\n",
      "Requirement already satisfied: kombu in c:\\users\\arun\\appdata\\roaming\\python\\python312\\site-packages (from dvc) (5.5.4)\n",
      "Requirement already satisfied: networkx>=2.5 in c:\\anaconda3\\lib\\site-packages (from dvc) (3.3)\n",
      "Requirement already satisfied: omegaconf in c:\\users\\arun\\appdata\\roaming\\python\\python312\\site-packages (from dvc) (2.3.0)\n",
      "Requirement already satisfied: packaging>=19 in c:\\users\\arun\\appdata\\roaming\\python\\python312\\site-packages (from dvc) (24.2)\n",
      "Requirement already satisfied: pathspec>=0.10.3 in c:\\anaconda3\\lib\\site-packages (from dvc) (0.10.3)\n",
      "Requirement already satisfied: platformdirs<5,>=3.1.1 in c:\\anaconda3\\lib\\site-packages (from dvc) (3.10.0)\n",
      "Requirement already satisfied: psutil>=5.8 in c:\\anaconda3\\lib\\site-packages (from dvc) (5.9.0)\n",
      "Requirement already satisfied: pydot>=1.2.4 in c:\\users\\arun\\appdata\\roaming\\python\\python312\\site-packages (from dvc) (4.0.1)\n",
      "Requirement already satisfied: pygtrie>=2.3.2 in c:\\users\\arun\\appdata\\roaming\\python\\python312\\site-packages (from dvc) (2.5.0)\n",
      "Requirement already satisfied: pyparsing>=2.4.7 in c:\\anaconda3\\lib\\site-packages (from dvc) (3.1.2)\n",
      "Requirement already satisfied: requests>=2.22 in c:\\users\\arun\\appdata\\roaming\\python\\python312\\site-packages (from dvc) (2.32.3)\n",
      "Requirement already satisfied: rich>=12 in c:\\anaconda3\\lib\\site-packages (from dvc) (13.7.1)\n",
      "Requirement already satisfied: ruamel.yaml>=0.17.11 in c:\\anaconda3\\lib\\site-packages (from dvc) (0.18.6)\n",
      "Requirement already satisfied: scmrepo<4,>=3.3.8 in c:\\users\\arun\\appdata\\roaming\\python\\python312\\site-packages (from dvc) (3.5.1)\n",
      "Requirement already satisfied: shortuuid>=0.5 in c:\\users\\arun\\appdata\\roaming\\python\\python312\\site-packages (from dvc) (1.0.13)\n",
      "Requirement already satisfied: shtab<2,>=1.3.4 in c:\\users\\arun\\appdata\\roaming\\python\\python312\\site-packages (from dvc) (1.7.2)\n",
      "Requirement already satisfied: tabulate>=0.8.7 in c:\\anaconda3\\lib\\site-packages (from dvc) (0.9.0)\n",
      "Requirement already satisfied: tomlkit>=0.11.1 in c:\\anaconda3\\lib\\site-packages (from dvc) (0.11.1)\n",
      "Requirement already satisfied: tqdm<5,>=4.63.1 in c:\\anaconda3\\lib\\site-packages (from dvc) (4.66.5)\n",
      "Requirement already satisfied: voluptuous>=0.11.7 in c:\\users\\arun\\appdata\\roaming\\python\\python312\\site-packages (from dvc) (0.15.2)\n",
      "Requirement already satisfied: zc.lockfile>=1.2.1 in c:\\users\\arun\\appdata\\roaming\\python\\python312\\site-packages (from dvc) (3.0.post1)\n",
      "Requirement already satisfied: dictdiffer>=0.8.1 in c:\\users\\arun\\appdata\\roaming\\python\\python312\\site-packages (from dvc-data<3.17,>=3.16.2->dvc) (0.9.0)\n",
      "Requirement already satisfied: diskcache>=5.2.1 in c:\\users\\arun\\appdata\\roaming\\python\\python312\\site-packages (from dvc-data<3.17,>=3.16.2->dvc) (5.6.3)\n",
      "Requirement already satisfied: sqltrie<1,>=0.11.0 in c:\\users\\arun\\appdata\\roaming\\python\\python312\\site-packages (from dvc-data<3.17,>=3.16.2->dvc) (0.11.2)\n",
      "Requirement already satisfied: orjson<4,>=3 in c:\\users\\arun\\appdata\\roaming\\python\\python312\\site-packages (from dvc-data<3.17,>=3.16.2->dvc) (3.10.16)\n",
      "Requirement already satisfied: aiohttp-retry>=2.5.0 in c:\\users\\arun\\appdata\\roaming\\python\\python312\\site-packages (from dvc-http>=2.29.0->dvc) (2.9.1)\n",
      "Requirement already satisfied: pywin32>=225 in c:\\anaconda3\\lib\\site-packages (from dvc-task<1,>=0.3.0->dvc) (305.1)\n",
      "Requirement already satisfied: billiard<5.0,>=4.2.1 in c:\\users\\arun\\appdata\\roaming\\python\\python312\\site-packages (from celery->dvc) (4.2.1)\n",
      "Requirement already satisfied: vine<6.0,>=5.1.0 in c:\\users\\arun\\appdata\\roaming\\python\\python312\\site-packages (from celery->dvc) (5.1.0)\n",
      "Requirement already satisfied: click<9.0,>=8.1.2 in c:\\anaconda3\\lib\\site-packages (from celery->dvc) (8.1.7)\n",
      "Requirement already satisfied: click-didyoumean>=0.3.0 in c:\\users\\arun\\appdata\\roaming\\python\\python312\\site-packages (from celery->dvc) (0.3.1)\n",
      "Requirement already satisfied: click-repl>=0.2.0 in c:\\users\\arun\\appdata\\roaming\\python\\python312\\site-packages (from celery->dvc) (0.3.0)\n",
      "Requirement already satisfied: click-plugins>=1.1.1 in c:\\users\\arun\\appdata\\roaming\\python\\python312\\site-packages (from celery->dvc) (1.1.1.2)\n",
      "Requirement already satisfied: python-dateutil>=2.8.2 in c:\\anaconda3\\lib\\site-packages (from celery->dvc) (2.9.0.post0)\n",
      "Requirement already satisfied: six<2.0,>=1.12 in c:\\anaconda3\\lib\\site-packages (from flatten_dict<1,>=0.4.1->dvc) (1.16.0)\n",
      "Requirement already satisfied: atpublic in c:\\users\\arun\\appdata\\roaming\\python\\python312\\site-packages (from flufl.lock<9,>=8.1.0->dvc) (6.0.1)\n",
      "Requirement already satisfied: entrypoints in c:\\users\\arun\\appdata\\roaming\\python\\python312\\site-packages (from gto<2,>=1.6.0->dvc) (0.4)\n",
      "Requirement already satisfied: pydantic!=2.0.0,<3,>=1.9.0 in c:\\users\\arun\\appdata\\roaming\\python\\python312\\site-packages (from gto<2,>=1.6.0->dvc) (2.11.2)\n",
      "Requirement already satisfied: semver>=2.13.0 in c:\\anaconda3\\lib\\site-packages (from gto<2,>=1.6.0->dvc) (3.0.2)\n",
      "Requirement already satisfied: typer>=0.4.1 in c:\\users\\arun\\appdata\\roaming\\python\\python312\\site-packages (from gto<2,>=1.6.0->dvc) (0.16.0)\n",
      "Requirement already satisfied: antlr4-python3-runtime==4.9.* in c:\\users\\arun\\appdata\\roaming\\python\\python312\\site-packages (from hydra-core>=1.1->dvc) (4.9.3)\n",
      "Requirement already satisfied: appdirs in c:\\anaconda3\\lib\\site-packages (from iterative-telemetry>=0.0.7->dvc) (1.4.4)\n",
      "Requirement already satisfied: filelock in c:\\anaconda3\\lib\\site-packages (from iterative-telemetry>=0.0.7->dvc) (3.13.1)\n",
      "Requirement already satisfied: amqp<6.0.0,>=5.1.1 in c:\\users\\arun\\appdata\\roaming\\python\\python312\\site-packages (from kombu->dvc) (5.3.1)\n",
      "Requirement already satisfied: tzdata>=2025.2 in c:\\users\\arun\\appdata\\roaming\\python\\python312\\site-packages (from kombu->dvc) (2025.2)\n",
      "Requirement already satisfied: PyYAML>=5.1.0 in c:\\users\\arun\\appdata\\roaming\\python\\python312\\site-packages (from omegaconf->dvc) (6.0.2)\n",
      "Requirement already satisfied: charset-normalizer<4,>=2 in c:\\users\\arun\\appdata\\roaming\\python\\python312\\site-packages (from requests>=2.22->dvc) (3.4.1)\n",
      "Requirement already satisfied: idna<4,>=2.5 in c:\\users\\arun\\appdata\\roaming\\python\\python312\\site-packages (from requests>=2.22->dvc) (3.10)\n",
      "Requirement already satisfied: urllib3<3,>=1.21.1 in c:\\users\\arun\\appdata\\roaming\\python\\python312\\site-packages (from requests>=2.22->dvc) (2.3.0)\n",
      "Requirement already satisfied: certifi>=2017.4.17 in c:\\users\\arun\\appdata\\roaming\\python\\python312\\site-packages (from requests>=2.22->dvc) (2025.1.31)\n",
      "Requirement already satisfied: markdown-it-py>=2.2.0 in c:\\anaconda3\\lib\\site-packages (from rich>=12->dvc) (2.2.0)\n",
      "Requirement already satisfied: pygments<3.0.0,>=2.13.0 in c:\\anaconda3\\lib\\site-packages (from rich>=12->dvc) (2.15.1)\n",
      "Requirement already satisfied: ruamel.yaml.clib>=0.2.7 in c:\\anaconda3\\lib\\site-packages (from ruamel.yaml>=0.17.11->dvc) (0.2.8)\n",
      "Requirement already satisfied: gitpython>3 in c:\\anaconda3\\lib\\site-packages (from scmrepo<4,>=3.3.8->dvc) (3.1.43)\n",
      "Requirement already satisfied: pygit2>=1.14.0 in c:\\users\\arun\\appdata\\roaming\\python\\python312\\site-packages (from scmrepo<4,>=3.3.8->dvc) (1.18.1)\n",
      "Requirement already satisfied: asyncssh<3,>=2.13.1 in c:\\users\\arun\\appdata\\roaming\\python\\python312\\site-packages (from scmrepo<4,>=3.3.8->dvc) (2.21.0)\n",
      "Requirement already satisfied: setuptools in c:\\anaconda3\\lib\\site-packages (from zc.lockfile>=1.2.1->dvc) (75.1.0)\n",
      "Requirement already satisfied: aiohttp in c:\\anaconda3\\lib\\site-packages (from aiohttp-retry>=2.5.0->dvc-http>=2.29.0->dvc) (3.10.5)\n",
      "Requirement already satisfied: cryptography>=39.0 in c:\\anaconda3\\lib\\site-packages (from asyncssh<3,>=2.13.1->scmrepo<4,>=3.3.8->dvc) (43.0.0)\n",
      "Requirement already satisfied: typing_extensions>=4.0.0 in c:\\users\\arun\\appdata\\roaming\\python\\python312\\site-packages (from asyncssh<3,>=2.13.1->scmrepo<4,>=3.3.8->dvc) (4.13.1)\n",
      "Requirement already satisfied: prompt-toolkit>=3.0.36 in c:\\anaconda3\\lib\\site-packages (from click-repl>=0.2.0->celery->dvc) (3.0.43)\n",
      "Requirement already satisfied: gitdb<5,>=4.0.1 in c:\\anaconda3\\lib\\site-packages (from gitpython>3->scmrepo<4,>=3.3.8->dvc) (4.0.7)\n",
      "Requirement already satisfied: mdurl~=0.1 in c:\\anaconda3\\lib\\site-packages (from markdown-it-py>=2.2.0->rich>=12->dvc) (0.1.0)\n",
      "Requirement already satisfied: annotated-types>=0.6.0 in c:\\users\\arun\\appdata\\roaming\\python\\python312\\site-packages (from pydantic!=2.0.0,<3,>=1.9.0->gto<2,>=1.6.0->dvc) (0.7.0)\n",
      "Requirement already satisfied: pydantic-core==2.33.1 in c:\\users\\arun\\appdata\\roaming\\python\\python312\\site-packages (from pydantic!=2.0.0,<3,>=1.9.0->gto<2,>=1.6.0->dvc) (2.33.1)\n",
      "Requirement already satisfied: typing-inspection>=0.4.0 in c:\\users\\arun\\appdata\\roaming\\python\\python312\\site-packages (from pydantic!=2.0.0,<3,>=1.9.0->gto<2,>=1.6.0->dvc) (0.4.0)\n",
      "Requirement already satisfied: cffi>=1.17.0 in c:\\anaconda3\\lib\\site-packages (from pygit2>=1.14.0->scmrepo<4,>=3.3.8->dvc) (1.17.1)\n",
      "Requirement already satisfied: shellingham>=1.3.0 in c:\\users\\arun\\appdata\\roaming\\python\\python312\\site-packages (from typer>=0.4.1->gto<2,>=1.6.0->dvc) (1.5.4)\n",
      "Requirement already satisfied: aiohappyeyeballs>=2.3.0 in c:\\anaconda3\\lib\\site-packages (from aiohttp->aiohttp-retry>=2.5.0->dvc-http>=2.29.0->dvc) (2.4.0)\n",
      "Requirement already satisfied: aiosignal>=1.1.2 in c:\\anaconda3\\lib\\site-packages (from aiohttp->aiohttp-retry>=2.5.0->dvc-http>=2.29.0->dvc) (1.2.0)\n",
      "Requirement already satisfied: frozenlist>=1.1.1 in c:\\anaconda3\\lib\\site-packages (from aiohttp->aiohttp-retry>=2.5.0->dvc-http>=2.29.0->dvc) (1.4.0)\n",
      "Requirement already satisfied: multidict<7.0,>=4.5 in c:\\anaconda3\\lib\\site-packages (from aiohttp->aiohttp-retry>=2.5.0->dvc-http>=2.29.0->dvc) (6.0.4)\n",
      "Requirement already satisfied: yarl<2.0,>=1.0 in c:\\anaconda3\\lib\\site-packages (from aiohttp->aiohttp-retry>=2.5.0->dvc-http>=2.29.0->dvc) (1.11.0)\n",
      "Requirement already satisfied: pycparser in c:\\anaconda3\\lib\\site-packages (from cffi>=1.17.0->pygit2>=1.14.0->scmrepo<4,>=3.3.8->dvc) (2.21)\n",
      "Requirement already satisfied: smmap<5,>=3.0.1 in c:\\anaconda3\\lib\\site-packages (from gitdb<5,>=4.0.1->gitpython>3->scmrepo<4,>=3.3.8->dvc) (4.0.0)\n",
      "Requirement already satisfied: wcwidth in c:\\anaconda3\\lib\\site-packages (from prompt-toolkit>=3.0.36->click-repl>=0.2.0->celery->dvc) (0.2.5)\n"
     ]
    }
   ],
   "source": [
    "pip install dvc"
   ]
  },
  {
   "cell_type": "code",
   "execution_count": 3,
   "id": "4e7ebac5",
   "metadata": {},
   "outputs": [
    {
     "name": "stdout",
     "output_type": "stream",
     "text": [
      "\n",
      "To track the changes with git, run:\n",
      "\n",
      "\tgit add '..\\datasets\\housing.csv.dvc'\n",
      "\n",
      "To enable auto staging, run:\n",
      "\n",
      "\tdvc config core.autostage true\n"
     ]
    },
    {
     "name": "stderr",
     "output_type": "stream",
     "text": [
      "⠋ Checking graph\n",
      "\n"
     ]
    }
   ],
   "source": [
    "!dvc add ../datasets//housing.csv"
   ]
  },
  {
   "cell_type": "code",
   "execution_count": null,
   "id": "ca7d6894",
   "metadata": {},
   "outputs": [],
   "source": [
    "# To track the changes with git, run:\n",
    "\n",
    "#         git add 'datasets\\housing.csv.dvc'\n",
    "\n",
    "# To enable auto staging, run:\n",
    "\n",
    "#         dvc config core.autostage true"
   ]
  },
  {
   "cell_type": "code",
   "execution_count": 1,
   "id": "7ca37b95",
   "metadata": {},
   "outputs": [],
   "source": [
    "import pandas as pd\n",
    "import os\n",
    "import pickle\n",
    "from sklearn.model_selection import train_test_split\n",
    "from sklearn.preprocessing import StandardScaler"
   ]
  },
  {
   "cell_type": "code",
   "execution_count": 5,
   "id": "7f7cc7d2",
   "metadata": {},
   "outputs": [],
   "source": [
    "def preprocess_data(df):\n",
    "    # Drop missing\n",
    "    df = df.dropna()\n",
    "\n",
    "    # Separate features and labels\n",
    "    X = df.drop(\"median_house_value\", axis=1)\n",
    "    y = df[\"median_house_value\"]\n",
    "\n",
    "    # Encode categorical\n",
    "    X = pd.get_dummies(X)\n",
    "\n",
    "    # Scale\n",
    "    scaler = StandardScaler()\n",
    "    X_scaled = scaler.fit_transform(X)\n",
    "\n",
    "    return X_scaled, y, scaler, X.columns.tolist()\n",
    "\n",
    "def save_processed_data(X, y, scaler, feature_columns, output_dir=\"processed\"):\n",
    "    os.makedirs(output_dir, exist_ok=True)\n",
    "\n",
    "    pd.DataFrame(X, columns=feature_columns).to_csv(\n",
    "        os.path.join(output_dir, \"features.csv\"), index=False\n",
    "    )\n",
    "    y.to_csv(os.path.join(output_dir, \"labels.csv\"), index=False)\n",
    "\n",
    "    # Save preprocessing artifacts\n",
    "    with open(os.path.join(output_dir, \"scaler.pkl\"), \"wb\") as f:\n",
    "        pickle.dump(scaler, f)\n",
    "    with open(os.path.join(output_dir, \"feature_columns.pkl\"), \"wb\") as f:\n",
    "        pickle.dump(feature_columns, f)\n",
    "\n"
   ]
  },
  {
   "cell_type": "code",
   "execution_count": 6,
   "id": "48ae6e47",
   "metadata": {},
   "outputs": [],
   "source": [
    "df = pd.read_csv(\"../datasets/housing.csv\")\n",
    "X, y, scaler, feature_columns = preprocess_data(df)\n",
    "save_processed_data(X, y, scaler, feature_columns)"
   ]
  },
  {
   "cell_type": "code",
   "execution_count": null,
   "id": "6a8a1f7c",
   "metadata": {},
   "outputs": [],
   "source": []
  },
  {
   "cell_type": "code",
   "execution_count": null,
   "id": "5cb96da5",
   "metadata": {},
   "outputs": [],
   "source": []
  }
 ],
 "metadata": {
  "kernelspec": {
   "display_name": "base",
   "language": "python",
   "name": "python3"
  },
  "language_info": {
   "codemirror_mode": {
    "name": "ipython",
    "version": 3
   },
   "file_extension": ".py",
   "mimetype": "text/x-python",
   "name": "python",
   "nbconvert_exporter": "python",
   "pygments_lexer": "ipython3",
   "version": "3.12.7"
  }
 },
 "nbformat": 4,
 "nbformat_minor": 5
}
