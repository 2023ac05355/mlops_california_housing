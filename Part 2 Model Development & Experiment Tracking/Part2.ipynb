{
 "cells": [
  {
   "cell_type": "code",
   "execution_count": null,
   "id": "9c9b9108",
   "metadata": {},
   "outputs": [],
   "source": [
    "!pip install pandas scikit-learn mlflow\n"
   ]
  },
  {
   "cell_type": "markdown",
   "id": "36fe34ba",
   "metadata": {},
   "source": [
    " # Training & Registration Script"
   ]
  },
  {
   "cell_type": "code",
   "execution_count": 1,
   "id": "9ef07232",
   "metadata": {},
   "outputs": [],
   "source": [
    "import os\n",
    "import pandas as pd\n",
    "import mlflow\n",
    "import mlflow.sklearn\n",
    "from sklearn.linear_model import LinearRegression\n",
    "from sklearn.tree import DecisionTreeRegressor\n",
    "from sklearn.metrics import mean_squared_error, r2_score\n",
    "from sklearn.model_selection import train_test_split\n",
    "import numpy as np"
   ]
  },
  {
   "cell_type": "code",
   "execution_count": 2,
   "id": "0ed7d8ed",
   "metadata": {},
   "outputs": [],
   "source": [
    "from mlflow.tracking import MlflowClient\n",
    "\n",
    "client = MlflowClient()"
   ]
  },
  {
   "cell_type": "code",
   "execution_count": 3,
   "id": "18d5f7d7",
   "metadata": {},
   "outputs": [
    {
     "data": {
      "text/plain": [
       "True"
      ]
     },
     "execution_count": 3,
     "metadata": {},
     "output_type": "execute_result"
    }
   ],
   "source": [
    "from dotenv import load_dotenv\n",
    "\n",
    "load_dotenv()"
   ]
  },
  {
   "cell_type": "code",
   "execution_count": 4,
   "id": "d523a68f",
   "metadata": {},
   "outputs": [
    {
     "data": {
      "text/plain": [
       "<Experiment: artifact_location='dbfs:/databricks/mlflow-tracking/853290876873368', creation_time=1754814044883, experiment_id='853290876873368', last_update_time=1754815200693, lifecycle_stage='active', name='/Users/arunabh919@gmail.com/California_Housing_Experiment', tags={'mlflow.databricks.filesystem.experiment_permissions_check': 'test',\n",
       " 'mlflow.experiment.sourceName': '/Users/arunabh919@gmail.com/California_Housing_Experiment',\n",
       " 'mlflow.experimentKind': 'custom_model_development',\n",
       " 'mlflow.experimentType': 'MLFLOW_EXPERIMENT',\n",
       " 'mlflow.ownerEmail': 'arunabh919@gmail.com',\n",
       " 'mlflow.ownerId': '77168391110064'}>"
      ]
     },
     "execution_count": 4,
     "metadata": {},
     "output_type": "execute_result"
    }
   ],
   "source": [
    "# =======================\n",
    "# CONFIGURATION\n",
    "# =======================\n",
    "\n",
    "DATABRICKS_HOST = os.getenv(\"DATABRICKS_HOST\")\n",
    "DATABRICKS_TOKEN = os.getenv(\"DATABRICKS_TOKEN\")\n",
    "\n",
    "mlflow.set_tracking_uri(\"databricks\")\n",
    "\n",
    "\n",
    "MODEL_NAME = \"California_Housing_Best_Model\"\n",
    "mlflow.set_experiment(\"/Users/arunabh919@gmail.com/California_Housing_Experiment\")\n",
    "\n",
    "\n",
    "# mlflow.set_tracking_uri(\"http://127.0.0.1:5000\")  "
   ]
  },
  {
   "cell_type": "code",
   "execution_count": 5,
   "id": "6666b4be",
   "metadata": {},
   "outputs": [],
   "source": [
    "# =======================\n",
    "# LOAD DATA (from features.csv + labels.csv)\n",
    "# =======================\n",
    "# Load training data\n",
    "X = pd.read_csv(\"../Part 1 Repository and Data Versioning/processed/features.csv\")\n",
    "y = pd.read_csv(\"../Part 1 Repository and Data Versioning/processed/labels.csv\").squeeze()\n",
    "\n",
    "\n",
    "# 80/20 split\n",
    "X_train, X_test, y_train, y_test = train_test_split(X, y, test_size=0.2, random_state=42)"
   ]
  },
  {
   "cell_type": "code",
   "execution_count": 9,
   "id": "bd917219",
   "metadata": {},
   "outputs": [],
   "source": [
    "# =======================\n",
    "# FUNCTION TO TRAIN & LOG\n",
    "# =======================\n",
    "from mlflow.models.signature import infer_signature\n",
    "\n",
    "def train_and_log(model, model_name, params=None):\n",
    "    with mlflow.start_run(run_name=model_name):\n",
    "        if params:\n",
    "            mlflow.log_params(params)\n",
    "\n",
    "        model.fit(X_train, y_train)\n",
    "        y_pred = model.predict(X_test)\n",
    "\n",
    "        rmse = np.sqrt(mean_squared_error(y_test, y_pred))\n",
    "        r2 = r2_score(y_test, y_pred)\n",
    "\n",
    "        mlflow.log_metric(\"rmse\", rmse)\n",
    "        mlflow.log_metric(\"r2\", r2)\n",
    "\n",
    "        # Create input DataFrame for signature inference (use some training or test data)\n",
    "        input_sample = X_train.head(5)\n",
    "        output_sample = model.predict(input_sample)\n",
    "\n",
    "        # Infer signature\n",
    "        signature = infer_signature(input_sample, output_sample)\n",
    "\n",
    "        # Log model with signature\n",
    "        mlflow.sklearn.log_model(model, \"model\", signature=signature)\n",
    "\n",
    "        # Log scaler and feature columns as before\n",
    "        scaler_path = os.path.abspath(\"../Part 1 Repository and Data Versioning/processed/scaler.pkl\")\n",
    "        feature_columns_path = os.path.abspath(\"../Part 1 Repository and Data Versioning/processed/feature_columns.pkl\")\n",
    "\n",
    "        mlflow.log_artifact(scaler_path)\n",
    "        mlflow.log_artifact(feature_columns_path)\n",
    "\n",
    "        print(f\"{model_name} -> RMSE: {rmse:.4f}, R2: {r2:.4f}\")\n",
    "\n",
    "        return {\"model\": model, \"rmse\": rmse, \"r2\": r2}\n",
    "\n"
   ]
  },
  {
   "cell_type": "code",
   "execution_count": 10,
   "id": "3bb99e86",
   "metadata": {},
   "outputs": [
    {
     "name": "stderr",
     "output_type": "stream",
     "text": [
      "2025/08/10 14:44:36 WARNING mlflow.models.model: `artifact_path` is deprecated. Please use `name` instead.\n"
     ]
    },
    {
     "name": "stdout",
     "output_type": "stream",
     "text": [
      "LinearRegression -> RMSE: 69297.7167, R2: 0.6488\n",
      "🏃 View run LinearRegression at: dbc-52ca4c3c-7d43.cloud.databricks.com/ml/experiments/853290876873368/runs/ae44bfe5072d4fb484a5e347e2858b9e\n",
      "🧪 View experiment at: dbc-52ca4c3c-7d43.cloud.databricks.com/ml/experiments/853290876873368\n"
     ]
    },
    {
     "name": "stderr",
     "output_type": "stream",
     "text": [
      "2025/08/10 14:44:46 WARNING mlflow.models.model: `artifact_path` is deprecated. Please use `name` instead.\n"
     ]
    },
    {
     "name": "stdout",
     "output_type": "stream",
     "text": [
      "DecisionTree -> RMSE: 60747.6952, R2: 0.7301\n",
      "🏃 View run DecisionTree at: dbc-52ca4c3c-7d43.cloud.databricks.com/ml/experiments/853290876873368/runs/fb5a3a1d0a9b43ecafe26522bfbbca97\n",
      "🧪 View experiment at: dbc-52ca4c3c-7d43.cloud.databricks.com/ml/experiments/853290876873368\n"
     ]
    }
   ],
   "source": [
    "# =======================\n",
    "# TRAIN MODELS\n",
    "# =======================\n",
    "results = []\n",
    "\n",
    "# Linear Regression\n",
    "lr_model = LinearRegression()\n",
    "results.append(train_and_log(lr_model, \"LinearRegression\"))\n",
    "\n",
    "# Decision Tree\n",
    "dt_params = {\"max_depth\": 10, \"random_state\": 42}\n",
    "dt_model = DecisionTreeRegressor(**dt_params)\n",
    "results.append(train_and_log(dt_model, \"DecisionTree\", params=dt_params))"
   ]
  },
  {
   "cell_type": "code",
   "execution_count": 8,
   "id": "c3dab8ea",
   "metadata": {},
   "outputs": [
    {
     "name": "stdout",
     "output_type": "stream",
     "text": [
      "\n",
      "Best Model: DecisionTreeRegressor(max_depth=10, random_state=42) with RMSE=60747.6952\n"
     ]
    }
   ],
   "source": [
    "# =======================\n",
    "# SELECT BEST MODEL\n",
    "# =======================\n",
    "best_model_info = min(results, key=lambda x: x[\"rmse\"])\n",
    "best_model = best_model_info[\"model\"]\n",
    "\n",
    "print(f\"\\nBest Model: {best_model} with RMSE={best_model_info['rmse']:.4f}\")\n"
   ]
  },
  {
   "cell_type": "code",
   "execution_count": 14,
   "id": "d1b2cf0c",
   "metadata": {},
   "outputs": [],
   "source": [
    "scaler_path = os.path.abspath(\"../Part 1 Repository and Data Versioning/processed/scaler.pkl\")\n",
    "feature_columns_path = os.path.abspath(\"../Part 1 Repository and Data Versioning/processed/feature_columns.pkl\")"
   ]
  },
  {
   "cell_type": "code",
   "execution_count": 15,
   "id": "4300eb43",
   "metadata": {},
   "outputs": [
    {
     "name": "stderr",
     "output_type": "stream",
     "text": [
      "2025/08/10 14:49:03 WARNING mlflow.models.model: `artifact_path` is deprecated. Please use `name` instead.\n",
      "Registered model 'mlops.default.California_Housing_Best_Model' already exists. Creating a new version of this model...\n"
     ]
    },
    {
     "data": {
      "application/vnd.jupyter.widget-view+json": {
       "model_id": "0837e470a0bc48739df1d9c4ae1a47b4",
       "version_major": 2,
       "version_minor": 0
      },
      "text/plain": [
       "Uploading artifacts:   0%|          | 0/5 [00:00<?, ?it/s]"
      ]
     },
     "metadata": {},
     "output_type": "display_data"
    },
    {
     "name": "stderr",
     "output_type": "stream",
     "text": [
      "Created version '2' of model 'mlops.default.california_housing_best_model'.\n"
     ]
    },
    {
     "name": "stdout",
     "output_type": "stream",
     "text": [
      "🏃 View run Register_Best_Model at: dbc-52ca4c3c-7d43.cloud.databricks.com/ml/experiments/853290876873368/runs/2d10a651626641a2bcd8648c4770b612\n",
      "🧪 View experiment at: dbc-52ca4c3c-7d43.cloud.databricks.com/ml/experiments/853290876873368\n"
     ]
    }
   ],
   "source": [
    "# =======================\n",
    "# REGISTER MODEL\n",
    "# =======================\n",
    "mlflow.set_tracking_uri(\"databricks\")\n",
    "MODEL_NAME  = \"mlops.default.California_Housing_Best_Model\"\n",
    "\n",
    "input_sample = X_train.head(5)\n",
    "output_sample = best_model.predict(input_sample)\n",
    "\n",
    "# Infer signature\n",
    "signature = infer_signature(input_sample, output_sample)\n",
    "\n",
    "with mlflow.start_run(run_name=\"Register_Best_Model\"):\n",
    "    mlflow.sklearn.log_model(best_model, \"model\", registered_model_name=MODEL_NAME, signature=signature)\n",
    "    mlflow.log_metric(\"rmse\", best_model_info[\"rmse\"])\n",
    "    mlflow.log_metric(\"r2\", best_model_info[\"r2\"])\n",
    "    mlflow.log_artifact(scaler_path)\n",
    "    mlflow.log_artifact(feature_columns_path)"
   ]
  },
  {
   "cell_type": "code",
   "execution_count": null,
   "id": "d55f4a20",
   "metadata": {},
   "outputs": [],
   "source": []
  }
 ],
 "metadata": {
  "kernelspec": {
   "display_name": "base",
   "language": "python",
   "name": "python3"
  },
  "language_info": {
   "codemirror_mode": {
    "name": "ipython",
    "version": 3
   },
   "file_extension": ".py",
   "mimetype": "text/x-python",
   "name": "python",
   "nbconvert_exporter": "python",
   "pygments_lexer": "ipython3",
   "version": "3.12.7"
  }
 },
 "nbformat": 4,
 "nbformat_minor": 5
}
