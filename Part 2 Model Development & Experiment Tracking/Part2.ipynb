{
 "cells": [
  {
   "cell_type": "code",
   "execution_count": null,
   "id": "9c9b9108",
   "metadata": {},
   "outputs": [],
   "source": [
    "!pip install pandas scikit-learn mlflow\n"
   ]
  },
  {
   "cell_type": "markdown",
   "id": "36fe34ba",
   "metadata": {},
   "source": [
    " # Training & Registration Script"
   ]
  },
  {
   "cell_type": "code",
   "execution_count": 1,
   "id": "9ef07232",
   "metadata": {},
   "outputs": [],
   "source": [
    "import os\n",
    "import pandas as pd\n",
    "import mlflow\n",
    "import mlflow.sklearn\n",
    "from sklearn.linear_model import LinearRegression\n",
    "from sklearn.tree import DecisionTreeRegressor\n",
    "from sklearn.metrics import mean_squared_error, r2_score\n",
    "from sklearn.model_selection import train_test_split\n",
    "import numpy as np"
   ]
  },
  {
   "cell_type": "code",
   "execution_count": 6,
   "id": "0ed7d8ed",
   "metadata": {},
   "outputs": [
    {
     "name": "stderr",
     "output_type": "stream",
     "text": [
      "2025/08/10 11:27:13 INFO mlflow.tracking.fluent: Experiment with name 'California_Housing_Experiment' does not exist. Creating a new experiment.\n"
     ]
    },
    {
     "data": {
      "text/plain": [
       "<Experiment: artifact_location='mlflow-artifacts:/340664372522611120', creation_time=1754805433696, experiment_id='340664372522611120', last_update_time=1754805433696, lifecycle_stage='active', name='California_Housing_Experiment', tags={}>"
      ]
     },
     "execution_count": 6,
     "metadata": {},
     "output_type": "execute_result"
    }
   ],
   "source": [
    "from mlflow.tracking import MlflowClient\n",
    "\n",
    "client = MlflowClient()\n",
    "mlflow.set_experiment(\"California_Housing_Experiment\")"
   ]
  },
  {
   "cell_type": "code",
   "execution_count": 7,
   "id": "d523a68f",
   "metadata": {},
   "outputs": [],
   "source": [
    "# =======================\n",
    "# CONFIGURATION\n",
    "# =======================\n",
    "mlflow.set_tracking_uri(\"http://127.0.0.1:5000\")\n",
    "MODEL_NAME = \"California_Housing_Best_Model\""
   ]
  },
  {
   "cell_type": "code",
   "execution_count": 8,
   "id": "6666b4be",
   "metadata": {},
   "outputs": [],
   "source": [
    "# =======================\n",
    "# LOAD DATA (from features.csv + labels.csv)\n",
    "# =======================\n",
    "# Load training data\n",
    "X = pd.read_csv(\"../Part 1 Repository and Data Versioning/processed/features.csv\")\n",
    "y = pd.read_csv(\"../Part 1 Repository and Data Versioning/processed/labels.csv\").squeeze()\n",
    "\n",
    "\n",
    "# 80/20 split\n",
    "X_train, X_test, y_train, y_test = train_test_split(X, y, test_size=0.2, random_state=42)"
   ]
  },
  {
   "cell_type": "code",
   "execution_count": 10,
   "id": "bd917219",
   "metadata": {},
   "outputs": [],
   "source": [
    "# =======================\n",
    "# FUNCTION TO TRAIN & LOG\n",
    "# =======================\n",
    "def train_and_log(model, model_name, params=None):\n",
    "    with mlflow.start_run(run_name=model_name):\n",
    "        if params:\n",
    "            mlflow.log_params(params)\n",
    "\n",
    "        # Train your model here (make sure you scale your data beforehand)\n",
    "        model.fit(X_train, y_train)\n",
    "        y_pred = model.predict(X_test)\n",
    "\n",
    "        rmse = np.sqrt(mean_squared_error(y_test, y_pred))\n",
    "        r2 = r2_score(y_test, y_pred)\n",
    "\n",
    "        mlflow.log_metric(\"rmse\", rmse)\n",
    "        mlflow.log_metric(\"r2\", r2)\n",
    "\n",
    "        mlflow.sklearn.log_model(model, \"model\")\n",
    "\n",
    "        print(f\"{model_name} -> RMSE: {rmse:.4f}, R2: {r2:.4f}\")\n",
    "        \n",
    "        return {\"model\": model, \"rmse\": rmse, \"r2\": r2} \n"
   ]
  },
  {
   "cell_type": "code",
   "execution_count": 11,
   "id": "3bb99e86",
   "metadata": {},
   "outputs": [
    {
     "name": "stderr",
     "output_type": "stream",
     "text": [
      "2025/08/10 11:27:29 WARNING mlflow.models.model: `artifact_path` is deprecated. Please use `name` instead.\n",
      "2025/08/10 11:27:33 WARNING mlflow.models.model: Model logged without a signature and input example. Please set `input_example` parameter when logging the model to auto infer the model signature.\n",
      "2025/08/10 11:27:33 WARNING mlflow.models.model: `artifact_path` is deprecated. Please use `name` instead.\n"
     ]
    },
    {
     "name": "stdout",
     "output_type": "stream",
     "text": [
      "LinearRegression -> RMSE: 69297.7167, R2: 0.6488\n",
      "🏃 View run LinearRegression at: http://127.0.0.1:5000/#/experiments/340664372522611120/runs/206e329dcacd492992e6707ba65ddccd\n",
      "🧪 View experiment at: http://127.0.0.1:5000/#/experiments/340664372522611120\n"
     ]
    },
    {
     "name": "stderr",
     "output_type": "stream",
     "text": [
      "2025/08/10 11:27:36 WARNING mlflow.models.model: Model logged without a signature and input example. Please set `input_example` parameter when logging the model to auto infer the model signature.\n"
     ]
    },
    {
     "name": "stdout",
     "output_type": "stream",
     "text": [
      "DecisionTree -> RMSE: 60747.6952, R2: 0.7301\n",
      "🏃 View run DecisionTree at: http://127.0.0.1:5000/#/experiments/340664372522611120/runs/6d72ea1909804bcf938bc3d2e412484b\n",
      "🧪 View experiment at: http://127.0.0.1:5000/#/experiments/340664372522611120\n"
     ]
    }
   ],
   "source": [
    "\n",
    "# =======================\n",
    "# TRAIN MODELS\n",
    "# =======================\n",
    "results = []\n",
    "\n",
    "# Linear Regression\n",
    "lr_model = LinearRegression()\n",
    "results.append(train_and_log(lr_model, \"LinearRegression\"))\n",
    "\n",
    "# Decision Tree\n",
    "dt_params = {\"max_depth\": 10, \"random_state\": 42}\n",
    "dt_model = DecisionTreeRegressor(**dt_params)\n",
    "results.append(train_and_log(dt_model, \"DecisionTree\", params=dt_params))"
   ]
  },
  {
   "cell_type": "code",
   "execution_count": 12,
   "id": "c3dab8ea",
   "metadata": {},
   "outputs": [
    {
     "name": "stdout",
     "output_type": "stream",
     "text": [
      "\n",
      "Best Model: DecisionTreeRegressor(max_depth=10, random_state=42) with RMSE=60747.6952\n"
     ]
    }
   ],
   "source": [
    "# =======================\n",
    "# SELECT BEST MODEL\n",
    "# =======================\n",
    "best_model_info = min(results, key=lambda x: x[\"rmse\"])\n",
    "best_model = best_model_info[\"model\"]\n",
    "\n",
    "print(f\"\\nBest Model: {best_model} with RMSE={best_model_info['rmse']:.4f}\")\n"
   ]
  },
  {
   "cell_type": "code",
   "execution_count": 13,
   "id": "d1b2cf0c",
   "metadata": {},
   "outputs": [],
   "source": [
    "scaler_path = os.path.abspath(\"../Part 1 Repository and Data Versioning/processed/scaler.pkl\")\n",
    "feature_columns_path = os.path.abspath(\"../Part 1 Repository and Data Versioning/processed/feature_columns.pkl\")"
   ]
  },
  {
   "cell_type": "code",
   "execution_count": 14,
   "id": "4300eb43",
   "metadata": {},
   "outputs": [
    {
     "name": "stderr",
     "output_type": "stream",
     "text": [
      "2025/08/10 11:27:36 WARNING mlflow.models.model: `artifact_path` is deprecated. Please use `name` instead.\n",
      "2025/08/10 11:27:38 WARNING mlflow.models.model: Model logged without a signature and input example. Please set `input_example` parameter when logging the model to auto infer the model signature.\n",
      "Successfully registered model 'California_Housing_Best_Model'.\n",
      "2025/08/10 11:27:39 INFO mlflow.store.model_registry.abstract_store: Waiting up to 300 seconds for model version to finish creation. Model name: California_Housing_Best_Model, version 1\n",
      "Created version '1' of model 'California_Housing_Best_Model'.\n"
     ]
    },
    {
     "name": "stdout",
     "output_type": "stream",
     "text": [
      "🏃 View run Register_Best_Model at: http://127.0.0.1:5000/#/experiments/340664372522611120/runs/c0de05e031dd44a2912a465a841efbf8\n",
      "🧪 View experiment at: http://127.0.0.1:5000/#/experiments/340664372522611120\n"
     ]
    }
   ],
   "source": [
    "# =======================\n",
    "# REGISTER MODEL\n",
    "# =======================\n",
    "with mlflow.start_run(run_name=\"Register_Best_Model\"):\n",
    "    mlflow.sklearn.log_model(best_model, \"model\", registered_model_name=MODEL_NAME)\n",
    "    mlflow.log_metric(\"rmse\", best_model_info[\"rmse\"])\n",
    "    mlflow.log_metric(\"r2\", best_model_info[\"r2\"])\n",
    "    mlflow.log_artifact(scaler_path)\n",
    "    mlflow.log_artifact(feature_columns_path)"
   ]
  },
  {
   "cell_type": "code",
   "execution_count": null,
   "id": "fd3f14bf",
   "metadata": {},
   "outputs": [],
   "source": []
  }
 ],
 "metadata": {
  "kernelspec": {
   "display_name": "base",
   "language": "python",
   "name": "python3"
  },
  "language_info": {
   "codemirror_mode": {
    "name": "ipython",
    "version": 3
   },
   "file_extension": ".py",
   "mimetype": "text/x-python",
   "name": "python",
   "nbconvert_exporter": "python",
   "pygments_lexer": "ipython3",
   "version": "3.12.7"
  }
 },
 "nbformat": 4,
 "nbformat_minor": 5
}
