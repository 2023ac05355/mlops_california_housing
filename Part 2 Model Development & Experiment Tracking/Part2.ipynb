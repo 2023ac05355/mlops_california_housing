{
 "cells": [
  {
   "cell_type": "code",
   "execution_count": null,
   "id": "9c9b9108",
   "metadata": {},
   "outputs": [
    {
     "name": "stdout",
     "output_type": "stream",
     "text": [
      "Defaulting to user installation because normal site-packages is not writeable\n",
      "Requirement already satisfied: pandas in c:\\anaconda3\\lib\\site-packages (2.2.2)\n",
      "Requirement already satisfied: scikit-learn in c:\\anaconda3\\lib\\site-packages (1.5.1)\n",
      "Collecting mlflow\n",
      "  Downloading mlflow-3.2.0-py3-none-any.whl.metadata (29 kB)\n",
      "Requirement already satisfied: numpy>=1.26.0 in c:\\anaconda3\\lib\\site-packages (from pandas) (1.26.4)\n",
      "Requirement already satisfied: python-dateutil>=2.8.2 in c:\\anaconda3\\lib\\site-packages (from pandas) (2.9.0.post0)\n",
      "Requirement already satisfied: pytz>=2020.1 in c:\\anaconda3\\lib\\site-packages (from pandas) (2024.1)\n",
      "Requirement already satisfied: tzdata>=2022.7 in c:\\users\\arun\\appdata\\roaming\\python\\python312\\site-packages (from pandas) (2025.2)\n",
      "Requirement already satisfied: scipy>=1.6.0 in c:\\anaconda3\\lib\\site-packages (from scikit-learn) (1.13.1)\n",
      "Requirement already satisfied: joblib>=1.2.0 in c:\\anaconda3\\lib\\site-packages (from scikit-learn) (1.4.2)\n",
      "Requirement already satisfied: threadpoolctl>=3.1.0 in c:\\anaconda3\\lib\\site-packages (from scikit-learn) (3.5.0)\n",
      "Collecting mlflow-skinny==3.2.0 (from mlflow)\n",
      "  Downloading mlflow_skinny-3.2.0-py3-none-any.whl.metadata (30 kB)\n",
      "Collecting mlflow-tracing==3.2.0 (from mlflow)\n",
      "  Downloading mlflow_tracing-3.2.0-py3-none-any.whl.metadata (19 kB)\n",
      "Requirement already satisfied: Flask<4 in c:\\anaconda3\\lib\\site-packages (from mlflow) (3.0.3)\n",
      "Collecting alembic!=1.10.0,<2 (from mlflow)\n",
      "  Downloading alembic-1.16.4-py3-none-any.whl.metadata (7.3 kB)\n",
      "Collecting docker<8,>=4.0.0 (from mlflow)\n",
      "  Downloading docker-7.1.0-py3-none-any.whl.metadata (3.8 kB)\n",
      "Collecting graphene<4 (from mlflow)\n",
      "  Downloading graphene-3.4.3-py2.py3-none-any.whl.metadata (6.9 kB)\n",
      "Requirement already satisfied: matplotlib<4 in c:\\anaconda3\\lib\\site-packages (from mlflow) (3.9.2)\n",
      "Requirement already satisfied: pyarrow<22,>=4.0.0 in c:\\anaconda3\\lib\\site-packages (from mlflow) (16.1.0)\n",
      "Requirement already satisfied: sqlalchemy<3,>=1.4.0 in c:\\anaconda3\\lib\\site-packages (from mlflow) (2.0.34)\n",
      "Collecting waitress<4 (from mlflow)\n",
      "  Downloading waitress-3.0.2-py3-none-any.whl.metadata (5.8 kB)\n",
      "Requirement already satisfied: cachetools<7,>=5.0.0 in c:\\anaconda3\\lib\\site-packages (from mlflow-skinny==3.2.0->mlflow) (5.3.3)\n",
      "Requirement already satisfied: click<9,>=7.0 in c:\\anaconda3\\lib\\site-packages (from mlflow-skinny==3.2.0->mlflow) (8.1.7)\n",
      "Requirement already satisfied: cloudpickle<4 in c:\\anaconda3\\lib\\site-packages (from mlflow-skinny==3.2.0->mlflow) (3.0.0)\n",
      "Collecting databricks-sdk<1,>=0.20.0 (from mlflow-skinny==3.2.0->mlflow)\n",
      "  Downloading databricks_sdk-0.62.0-py3-none-any.whl.metadata (39 kB)\n",
      "Collecting fastapi<1 (from mlflow-skinny==3.2.0->mlflow)\n",
      "  Downloading fastapi-0.116.1-py3-none-any.whl.metadata (28 kB)\n",
      "Requirement already satisfied: gitpython<4,>=3.1.9 in c:\\anaconda3\\lib\\site-packages (from mlflow-skinny==3.2.0->mlflow) (3.1.43)\n",
      "Requirement already satisfied: importlib_metadata!=4.7.0,<9,>=3.7.0 in c:\\anaconda3\\lib\\site-packages (from mlflow-skinny==3.2.0->mlflow) (7.0.1)\n",
      "Collecting opentelemetry-api<3,>=1.9.0 (from mlflow-skinny==3.2.0->mlflow)\n",
      "  Downloading opentelemetry_api-1.36.0-py3-none-any.whl.metadata (1.5 kB)\n",
      "Collecting opentelemetry-sdk<3,>=1.9.0 (from mlflow-skinny==3.2.0->mlflow)\n",
      "  Downloading opentelemetry_sdk-1.36.0-py3-none-any.whl.metadata (1.5 kB)\n",
      "Requirement already satisfied: packaging<26 in c:\\users\\arun\\appdata\\roaming\\python\\python312\\site-packages (from mlflow-skinny==3.2.0->mlflow) (24.2)\n",
      "Requirement already satisfied: protobuf<7,>=3.12.0 in c:\\anaconda3\\lib\\site-packages (from mlflow-skinny==3.2.0->mlflow) (4.25.3)\n",
      "Requirement already satisfied: pydantic<3,>=1.10.8 in c:\\users\\arun\\appdata\\roaming\\python\\python312\\site-packages (from mlflow-skinny==3.2.0->mlflow) (2.11.2)\n",
      "Requirement already satisfied: pyyaml<7,>=5.1 in c:\\users\\arun\\appdata\\roaming\\python\\python312\\site-packages (from mlflow-skinny==3.2.0->mlflow) (6.0.2)\n",
      "Requirement already satisfied: requests<3,>=2.17.3 in c:\\users\\arun\\appdata\\roaming\\python\\python312\\site-packages (from mlflow-skinny==3.2.0->mlflow) (2.32.3)\n",
      "Collecting sqlparse<1,>=0.4.0 (from mlflow-skinny==3.2.0->mlflow)\n",
      "  Downloading sqlparse-0.5.3-py3-none-any.whl.metadata (3.9 kB)\n",
      "Requirement already satisfied: typing-extensions<5,>=4.0.0 in c:\\users\\arun\\appdata\\roaming\\python\\python312\\site-packages (from mlflow-skinny==3.2.0->mlflow) (4.13.1)\n",
      "Requirement already satisfied: uvicorn<1 in c:\\users\\arun\\appdata\\roaming\\python\\python312\\site-packages (from mlflow-skinny==3.2.0->mlflow) (0.34.0)\n",
      "Collecting Mako (from alembic!=1.10.0,<2->mlflow)\n",
      "  Downloading mako-1.3.10-py3-none-any.whl.metadata (2.9 kB)\n",
      "Requirement already satisfied: pywin32>=304 in c:\\anaconda3\\lib\\site-packages (from docker<8,>=4.0.0->mlflow) (305.1)\n",
      "Requirement already satisfied: urllib3>=1.26.0 in c:\\users\\arun\\appdata\\roaming\\python\\python312\\site-packages (from docker<8,>=4.0.0->mlflow) (2.3.0)\n",
      "Requirement already satisfied: Werkzeug>=3.0.0 in c:\\anaconda3\\lib\\site-packages (from Flask<4->mlflow) (3.0.3)\n",
      "Requirement already satisfied: Jinja2>=3.1.2 in c:\\anaconda3\\lib\\site-packages (from Flask<4->mlflow) (3.1.4)\n",
      "Requirement already satisfied: itsdangerous>=2.1.2 in c:\\anaconda3\\lib\\site-packages (from Flask<4->mlflow) (2.2.0)\n",
      "Requirement already satisfied: blinker>=1.6.2 in c:\\anaconda3\\lib\\site-packages (from Flask<4->mlflow) (1.6.2)\n",
      "Collecting graphql-core<3.3,>=3.1 (from graphene<4->mlflow)\n",
      "  Downloading graphql_core-3.2.6-py3-none-any.whl.metadata (11 kB)\n",
      "Collecting graphql-relay<3.3,>=3.1 (from graphene<4->mlflow)\n",
      "  Downloading graphql_relay-3.2.0-py3-none-any.whl.metadata (12 kB)\n",
      "Requirement already satisfied: contourpy>=1.0.1 in c:\\anaconda3\\lib\\site-packages (from matplotlib<4->mlflow) (1.2.0)\n",
      "Requirement already satisfied: cycler>=0.10 in c:\\anaconda3\\lib\\site-packages (from matplotlib<4->mlflow) (0.11.0)\n",
      "Requirement already satisfied: fonttools>=4.22.0 in c:\\anaconda3\\lib\\site-packages (from matplotlib<4->mlflow) (4.51.0)\n",
      "Requirement already satisfied: kiwisolver>=1.3.1 in c:\\anaconda3\\lib\\site-packages (from matplotlib<4->mlflow) (1.4.4)\n",
      "Requirement already satisfied: pillow>=8 in c:\\anaconda3\\lib\\site-packages (from matplotlib<4->mlflow) (10.4.0)\n",
      "Requirement already satisfied: pyparsing>=2.3.1 in c:\\anaconda3\\lib\\site-packages (from matplotlib<4->mlflow) (3.1.2)\n",
      "Requirement already satisfied: six>=1.5 in c:\\anaconda3\\lib\\site-packages (from python-dateutil>=2.8.2->pandas) (1.16.0)\n",
      "Requirement already satisfied: greenlet!=0.4.17 in c:\\anaconda3\\lib\\site-packages (from sqlalchemy<3,>=1.4.0->mlflow) (3.0.1)\n",
      "Requirement already satisfied: colorama in c:\\anaconda3\\lib\\site-packages (from click<9,>=7.0->mlflow-skinny==3.2.0->mlflow) (0.4.6)\n",
      "Collecting google-auth~=2.0 (from databricks-sdk<1,>=0.20.0->mlflow-skinny==3.2.0->mlflow)\n",
      "  Downloading google_auth-2.40.3-py2.py3-none-any.whl.metadata (6.2 kB)\n",
      "Requirement already satisfied: starlette<0.48.0,>=0.40.0 in c:\\users\\arun\\appdata\\roaming\\python\\python312\\site-packages (from fastapi<1->mlflow-skinny==3.2.0->mlflow) (0.46.1)\n",
      "Requirement already satisfied: gitdb<5,>=4.0.1 in c:\\anaconda3\\lib\\site-packages (from gitpython<4,>=3.1.9->mlflow-skinny==3.2.0->mlflow) (4.0.7)\n",
      "Requirement already satisfied: zipp>=0.5 in c:\\anaconda3\\lib\\site-packages (from importlib_metadata!=4.7.0,<9,>=3.7.0->mlflow-skinny==3.2.0->mlflow) (3.17.0)\n",
      "Requirement already satisfied: MarkupSafe>=2.0 in c:\\anaconda3\\lib\\site-packages (from Jinja2>=3.1.2->Flask<4->mlflow) (2.1.3)\n",
      "Collecting opentelemetry-semantic-conventions==0.57b0 (from opentelemetry-sdk<3,>=1.9.0->mlflow-skinny==3.2.0->mlflow)\n",
      "  Downloading opentelemetry_semantic_conventions-0.57b0-py3-none-any.whl.metadata (2.4 kB)\n",
      "Requirement already satisfied: annotated-types>=0.6.0 in c:\\users\\arun\\appdata\\roaming\\python\\python312\\site-packages (from pydantic<3,>=1.10.8->mlflow-skinny==3.2.0->mlflow) (0.7.0)\n",
      "Requirement already satisfied: pydantic-core==2.33.1 in c:\\users\\arun\\appdata\\roaming\\python\\python312\\site-packages (from pydantic<3,>=1.10.8->mlflow-skinny==3.2.0->mlflow) (2.33.1)\n",
      "Requirement already satisfied: typing-inspection>=0.4.0 in c:\\users\\arun\\appdata\\roaming\\python\\python312\\site-packages (from pydantic<3,>=1.10.8->mlflow-skinny==3.2.0->mlflow) (0.4.0)\n",
      "Requirement already satisfied: charset-normalizer<4,>=2 in c:\\users\\arun\\appdata\\roaming\\python\\python312\\site-packages (from requests<3,>=2.17.3->mlflow-skinny==3.2.0->mlflow) (3.4.1)\n",
      "Requirement already satisfied: idna<4,>=2.5 in c:\\users\\arun\\appdata\\roaming\\python\\python312\\site-packages (from requests<3,>=2.17.3->mlflow-skinny==3.2.0->mlflow) (3.10)\n",
      "Requirement already satisfied: certifi>=2017.4.17 in c:\\users\\arun\\appdata\\roaming\\python\\python312\\site-packages (from requests<3,>=2.17.3->mlflow-skinny==3.2.0->mlflow) (2025.1.31)\n",
      "Requirement already satisfied: h11>=0.8 in c:\\users\\arun\\appdata\\roaming\\python\\python312\\site-packages (from uvicorn<1->mlflow-skinny==3.2.0->mlflow) (0.14.0)\n",
      "Requirement already satisfied: smmap<5,>=3.0.1 in c:\\anaconda3\\lib\\site-packages (from gitdb<5,>=4.0.1->gitpython<4,>=3.1.9->mlflow-skinny==3.2.0->mlflow) (4.0.0)\n",
      "Requirement already satisfied: pyasn1-modules>=0.2.1 in c:\\anaconda3\\lib\\site-packages (from google-auth~=2.0->databricks-sdk<1,>=0.20.0->mlflow-skinny==3.2.0->mlflow) (0.2.8)\n",
      "Collecting rsa<5,>=3.1.4 (from google-auth~=2.0->databricks-sdk<1,>=0.20.0->mlflow-skinny==3.2.0->mlflow)\n",
      "  Downloading rsa-4.9.1-py3-none-any.whl.metadata (5.6 kB)\n",
      "Requirement already satisfied: anyio<5,>=3.6.2 in c:\\users\\arun\\appdata\\roaming\\python\\python312\\site-packages (from starlette<0.48.0,>=0.40.0->fastapi<1->mlflow-skinny==3.2.0->mlflow) (4.9.0)\n",
      "Requirement already satisfied: sniffio>=1.1 in c:\\users\\arun\\appdata\\roaming\\python\\python312\\site-packages (from anyio<5,>=3.6.2->starlette<0.48.0,>=0.40.0->fastapi<1->mlflow-skinny==3.2.0->mlflow) (1.3.1)\n",
      "Requirement already satisfied: pyasn1<0.5.0,>=0.4.6 in c:\\anaconda3\\lib\\site-packages (from pyasn1-modules>=0.2.1->google-auth~=2.0->databricks-sdk<1,>=0.20.0->mlflow-skinny==3.2.0->mlflow) (0.4.8)\n",
      "Downloading mlflow-3.2.0-py3-none-any.whl (25.8 MB)\n",
      "   ---------------------------------------- 0.0/25.8 MB ? eta -:--:--\n",
      "   - -------------------------------------- 1.0/25.8 MB 6.3 MB/s eta 0:00:04\n",
      "   ---- ----------------------------------- 2.6/25.8 MB 6.9 MB/s eta 0:00:04\n",
      "   ------ --------------------------------- 4.2/25.8 MB 7.0 MB/s eta 0:00:04\n",
      "   --------- ------------------------------ 6.3/25.8 MB 8.0 MB/s eta 0:00:03\n",
      "   ------------- -------------------------- 8.9/25.8 MB 8.9 MB/s eta 0:00:02\n",
      "   ------------------ --------------------- 12.1/25.8 MB 9.9 MB/s eta 0:00:02\n",
      "   ------------------------ --------------- 15.7/25.8 MB 11.0 MB/s eta 0:00:01\n",
      "   ------------------------------ --------- 19.7/25.8 MB 11.9 MB/s eta 0:00:01\n",
      "   ------------------------------------ --- 23.6/25.8 MB 12.7 MB/s eta 0:00:01\n",
      "   ---------------------------------------  25.7/25.8 MB 12.5 MB/s eta 0:00:01\n",
      "   ---------------------------------------- 25.8/25.8 MB 12.2 MB/s eta 0:00:00\n",
      "Downloading mlflow_skinny-3.2.0-py3-none-any.whl (2.0 MB)\n",
      "   ---------------------------------------- 0.0/2.0 MB ? eta -:--:--\n",
      "   ---------------------------------------- 2.0/2.0 MB 12.2 MB/s eta 0:00:00\n",
      "Downloading mlflow_tracing-3.2.0-py3-none-any.whl (1.1 MB)\n",
      "   ---------------------------------------- 0.0/1.1 MB ? eta -:--:--\n",
      "   ---------------------------------------- 1.1/1.1 MB 13.2 MB/s eta 0:00:00\n",
      "Downloading alembic-1.16.4-py3-none-any.whl (247 kB)\n",
      "Downloading docker-7.1.0-py3-none-any.whl (147 kB)\n",
      "Downloading graphene-3.4.3-py2.py3-none-any.whl (114 kB)\n",
      "Downloading waitress-3.0.2-py3-none-any.whl (56 kB)\n",
      "Downloading databricks_sdk-0.62.0-py3-none-any.whl (681 kB)\n",
      "   ---------------------------------------- 0.0/681.8 kB ? eta -:--:--\n",
      "   --------------------------------------- 681.8/681.8 kB 13.5 MB/s eta 0:00:00\n",
      "Downloading fastapi-0.116.1-py3-none-any.whl (95 kB)\n",
      "Downloading graphql_core-3.2.6-py3-none-any.whl (203 kB)\n",
      "Downloading graphql_relay-3.2.0-py3-none-any.whl (16 kB)\n",
      "Downloading opentelemetry_api-1.36.0-py3-none-any.whl (65 kB)\n",
      "Downloading opentelemetry_sdk-1.36.0-py3-none-any.whl (119 kB)\n",
      "Downloading opentelemetry_semantic_conventions-0.57b0-py3-none-any.whl (201 kB)\n",
      "Downloading sqlparse-0.5.3-py3-none-any.whl (44 kB)\n",
      "Downloading mako-1.3.10-py3-none-any.whl (78 kB)\n",
      "Downloading google_auth-2.40.3-py2.py3-none-any.whl (216 kB)\n",
      "Downloading rsa-4.9.1-py3-none-any.whl (34 kB)\n",
      "Installing collected packages: waitress, sqlparse, rsa, Mako, graphql-core, opentelemetry-api, graphql-relay, google-auth, docker, alembic, opentelemetry-semantic-conventions, graphene, fastapi, databricks-sdk, opentelemetry-sdk, mlflow-tracing, mlflow-skinny, mlflow\n",
      "Successfully installed Mako-1.3.10 alembic-1.16.4 databricks-sdk-0.62.0 docker-7.1.0 fastapi-0.116.1 google-auth-2.40.3 graphene-3.4.3 graphql-core-3.2.6 graphql-relay-3.2.0 mlflow-3.2.0 mlflow-skinny-3.2.0 mlflow-tracing-3.2.0 opentelemetry-api-1.36.0 opentelemetry-sdk-1.36.0 opentelemetry-semantic-conventions-0.57b0 rsa-4.9.1 sqlparse-0.5.3 waitress-3.0.2\n",
      "Note: you may need to restart the kernel to use updated packages.\n"
     ]
    }
   ],
   "source": [
    "!pip install pandas scikit-learn mlflow\n"
   ]
  },
  {
   "cell_type": "markdown",
   "id": "36fe34ba",
   "metadata": {},
   "source": [
    " # Training & Registration Script"
   ]
  },
  {
   "cell_type": "code",
   "execution_count": 5,
   "id": "9ef07232",
   "metadata": {},
   "outputs": [],
   "source": [
    "import os\n",
    "import pandas as pd\n",
    "import mlflow\n",
    "import mlflow.sklearn\n",
    "from sklearn.linear_model import LinearRegression\n",
    "from sklearn.tree import DecisionTreeRegressor\n",
    "from sklearn.metrics import mean_squared_error, r2_score\n",
    "from sklearn.model_selection import train_test_split\n",
    "import numpy as np"
   ]
  },
  {
   "cell_type": "code",
   "execution_count": 2,
   "id": "d523a68f",
   "metadata": {},
   "outputs": [
    {
     "name": "stderr",
     "output_type": "stream",
     "text": [
      "2025/08/09 10:47:55 INFO mlflow.tracking.fluent: Experiment with name 'California_Housing_Models' does not exist. Creating a new experiment.\n"
     ]
    }
   ],
   "source": [
    "# =======================\n",
    "# CONFIGURATION\n",
    "# =======================\n",
    "mlflow.set_tracking_uri(\"http://127.0.0.1:5000\")  # Change if using remote MLflow\n",
    "mlflow.set_experiment(\"California_Housing_Models\")\n",
    "MODEL_NAME = \"California_Housing_Best_Model\""
   ]
  },
  {
   "cell_type": "code",
   "execution_count": null,
   "id": "6666b4be",
   "metadata": {},
   "outputs": [],
   "source": [
    "# =======================\n",
    "# LOAD DATA (from features.csv + labels.csv)\n",
    "# =======================\n",
    "# Load training data\n",
    "X = pd.read_csv(\"../Part 1 Repository and Data Versioning/processed/features.csv\")\n",
    "y = pd.read_csv(\"../Part 1 Repository and Data Versioning/processed/labels.csv\").squeeze()\n",
    "\n",
    "\n",
    "# 80/20 split\n",
    "X_train, X_test, y_train, y_test = train_test_split(X, y, test_size=0.2, random_state=42)"
   ]
  },
  {
   "cell_type": "code",
   "execution_count": 7,
   "id": "bd917219",
   "metadata": {},
   "outputs": [],
   "source": [
    "# =======================\n",
    "# FUNCTION TO TRAIN & LOG\n",
    "# =======================\n",
    "def train_and_log(model, model_name, params=None):\n",
    "    with mlflow.start_run(run_name=model_name):\n",
    "        if params:\n",
    "            mlflow.log_params(params)\n",
    "        \n",
    "        # Train\n",
    "        model.fit(X_train, y_train)\n",
    "\n",
    "        # Predict\n",
    "        y_pred = model.predict(X_test)\n",
    "\n",
    "        # Metrics\n",
    "        rmse = np.sqrt(mean_squared_error(y_test, y_pred))\n",
    "        r2 = r2_score(y_test, y_pred)\n",
    "\n",
    "        # Log metrics\n",
    "        mlflow.log_metric(\"rmse\", rmse)\n",
    "        mlflow.log_metric(\"r2\", r2)\n",
    "\n",
    "        # Log model\n",
    "        mlflow.sklearn.log_model(model, \"model\")\n",
    "\n",
    "        print(f\"{model_name} -> RMSE: {rmse:.4f}, R2: {r2:.4f}\")\n",
    "        return {\"model\": model, \"rmse\": rmse, \"r2\": r2}"
   ]
  },
  {
   "cell_type": "code",
   "execution_count": 8,
   "id": "3bb99e86",
   "metadata": {},
   "outputs": [
    {
     "name": "stderr",
     "output_type": "stream",
     "text": [
      "2025/08/09 10:53:22 WARNING mlflow.models.model: `artifact_path` is deprecated. Please use `name` instead.\n",
      "2025/08/09 10:53:31 WARNING mlflow.models.model: Model logged without a signature and input example. Please set `input_example` parameter when logging the model to auto infer the model signature.\n",
      "2025/08/09 10:53:31 WARNING mlflow.models.model: `artifact_path` is deprecated. Please use `name` instead.\n"
     ]
    },
    {
     "name": "stdout",
     "output_type": "stream",
     "text": [
      "LinearRegression -> RMSE: 69297.7167, R2: 0.6488\n",
      "🏃 View run LinearRegression at: http://127.0.0.1:5000/#/experiments/466548277255127213/runs/33f539647cd34c4eba177701e7e96a7f\n",
      "🧪 View experiment at: http://127.0.0.1:5000/#/experiments/466548277255127213\n"
     ]
    },
    {
     "name": "stderr",
     "output_type": "stream",
     "text": [
      "2025/08/09 10:53:34 WARNING mlflow.models.model: Model logged without a signature and input example. Please set `input_example` parameter when logging the model to auto infer the model signature.\n"
     ]
    },
    {
     "name": "stdout",
     "output_type": "stream",
     "text": [
      "DecisionTree -> RMSE: 60747.6952, R2: 0.7301\n",
      "🏃 View run DecisionTree at: http://127.0.0.1:5000/#/experiments/466548277255127213/runs/13e98ee457504270987524de298172a5\n",
      "🧪 View experiment at: http://127.0.0.1:5000/#/experiments/466548277255127213\n"
     ]
    }
   ],
   "source": [
    "\n",
    "# =======================\n",
    "# TRAIN MODELS\n",
    "# =======================\n",
    "results = []\n",
    "\n",
    "# Linear Regression\n",
    "lr_model = LinearRegression()\n",
    "results.append(train_and_log(lr_model, \"LinearRegression\"))\n",
    "\n",
    "# Decision Tree\n",
    "dt_params = {\"max_depth\": 10, \"random_state\": 42}\n",
    "dt_model = DecisionTreeRegressor(**dt_params)\n",
    "results.append(train_and_log(dt_model, \"DecisionTree\", params=dt_params))"
   ]
  },
  {
   "cell_type": "code",
   "execution_count": null,
   "id": "c3dab8ea",
   "metadata": {},
   "outputs": [
    {
     "name": "stdout",
     "output_type": "stream",
     "text": [
      "\n",
      "Best Model: DecisionTreeRegressor(max_depth=10, random_state=42) with RMSE=60747.6952\n"
     ]
    }
   ],
   "source": [
    "# =======================\n",
    "# SELECT BEST MODEL\n",
    "# =======================\n",
    "best_model_info = min(results, key=lambda x: x[\"rmse\"])\n",
    "best_model = best_model_info[\"model\"]\n",
    "\n",
    "print(f\"\\nBest Model: {best_model} with RMSE={best_model_info['rmse']:.4f}\")\n"
   ]
  },
  {
   "cell_type": "code",
   "execution_count": 10,
   "id": "4300eb43",
   "metadata": {},
   "outputs": [
    {
     "name": "stderr",
     "output_type": "stream",
     "text": [
      "2025/08/09 10:53:58 WARNING mlflow.models.model: `artifact_path` is deprecated. Please use `name` instead.\n",
      "2025/08/09 10:54:01 WARNING mlflow.models.model: Model logged without a signature and input example. Please set `input_example` parameter when logging the model to auto infer the model signature.\n",
      "Successfully registered model 'California_Housing_Best_Model'.\n",
      "2025/08/09 10:54:01 INFO mlflow.store.model_registry.abstract_store: Waiting up to 300 seconds for model version to finish creation. Model name: California_Housing_Best_Model, version 1\n",
      "Created version '1' of model 'California_Housing_Best_Model'.\n"
     ]
    },
    {
     "name": "stdout",
     "output_type": "stream",
     "text": [
      "🏃 View run Register_Best_Model at: http://127.0.0.1:5000/#/experiments/466548277255127213/runs/d2e557ffe4aa4307a049c13fbd3e8ac7\n",
      "🧪 View experiment at: http://127.0.0.1:5000/#/experiments/466548277255127213\n"
     ]
    }
   ],
   "source": [
    "# =======================\n",
    "# REGISTER MODEL\n",
    "# =======================\n",
    "with mlflow.start_run(run_name=\"Register_Best_Model\"):\n",
    "    mlflow.sklearn.log_model(best_model, \"model\", registered_model_name=MODEL_NAME)\n",
    "    mlflow.log_metric(\"rmse\", best_model_info[\"rmse\"])\n",
    "    mlflow.log_metric(\"r2\", best_model_info[\"r2\"])"
   ]
  },
  {
   "cell_type": "code",
   "execution_count": null,
   "id": "9d1f81c6",
   "metadata": {},
   "outputs": [],
   "source": []
  }
 ],
 "metadata": {
  "kernelspec": {
   "display_name": "base",
   "language": "python",
   "name": "python3"
  },
  "language_info": {
   "codemirror_mode": {
    "name": "ipython",
    "version": 3
   },
   "file_extension": ".py",
   "mimetype": "text/x-python",
   "name": "python",
   "nbconvert_exporter": "python",
   "pygments_lexer": "ipython3",
   "version": "3.12.7"
  }
 },
 "nbformat": 4,
 "nbformat_minor": 5
}
